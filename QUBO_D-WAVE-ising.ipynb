{
 "cells": [
  {
   "attachments": {},
   "cell_type": "markdown",
   "id": "0569d3c0-dca4-4edf-a19b-152843e0b027",
   "metadata": {},
   "source": [
    "# QUBO solved Dwave in ising model"
   ]
  },
  {
   "attachments": {},
   "cell_type": "markdown",
   "id": "909b9257",
   "metadata": {},
   "source": [
    "https://arxiv.org/ftp/arxiv/papers/1811/1811.11538.pdf\n",
    "\n",
    "For a Minimum Vertex Cover (MVC) problem on a weighted graph $ G_w = (V_w,E) $ with $ V_w $ weighted vertices, $ E $ edges, where one also wishes to maximize the weights of the selected nodes and respect a size constraint, the QUBO formulation can be structured as follows:\n",
    "\n",
    "1. **Variables:** For each node $ i $, a binary variable $ x_i $ is defined, where $ x_i = 1 $ if node $ i $ is selected in the cover, and 0 otherwise.\n",
    "2. **Coverage Constraint:** Each edge must be covered by at least one of the nodes it connects (MVC).\n",
    "3. **Node Weights:** Each node $ i $ has a weight $ w_i $.\n",
    "4. **Size Constraint:** Impose a maximum size $ k $ on the number of selected nodes.\n",
    "\n",
    "The QUBO objective function can be expressed as minimize :\n",
    "\n",
    "$ f(x) = - \\sum_{i=1}^V w_i x_i + A \\sum_{(i, j) \\in E} (1 - x_i)(1 - x_j) + B \\left( \\sum_{i=1}^V x_i - k \\right)^2 $\n",
    "\n",
    "For a linear graph of 3 nodes (1 ----- 2 ----- 3) the QUBO matrix would be: \n",
    "\n",
    "|          | $ x_1 $                               | $ x_2 $                                | $ x_3 $                                |\n",
    "|----------|---------------------------------------|----------------------------------------|----------------------------------------|\n",
    "| $ x_1 $  | $ - w_1 - A + B(1 - 2k) $             | $ A + 2B$                              | $2B$                                   |\n",
    "| $ x_2 $  | $  A + 2B$                            | $ - w_2 - 2A + B(1 - 2k) $             | $ A + 2B$                              |\n",
    "| $ x_3 $  | $2B$                                  | $ A + 2B$                              | $ - w_3 - A + B(1 - 2k) $              |\n",
    "\n",
    "The values of $ A $ and $ B $ must be carefully chosen to balance the maximization of the weights of the nodes, the coverage of each edge, and the size constraint of the MVC.\n",
    "\n",
    "\n",
    "### Remplacement de $ x_i $ par $ \\frac{1}{2}(1 - z_i) $ (model d'Ising)\n",
    "\n",
    "$ f(z) = - \\sum_{i=1}^V w_i \\frac{1}{2}(1 - z_i) + A \\sum_{(i, j) \\in E} \\left( \\frac{1}{2}(1 + z_i) \\right)\\left( \\frac{1}{2}(1 + z_j) \\right) + B \\left( \\sum_{i=1}^V \\frac{1}{2}(1 - z_i) - k \\right)^2 $\n",
    "\n",
    "### Terme de Poids\n",
    "$ - \\sum_{i=1}^V w_i \\frac{1}{2}(1 - z_i) = - \\frac{1}{2} \\sum_{i=1}^V w_i + \\frac{1}{2} \\sum_{i=1}^V w_i z_i $\n",
    "\n",
    "For a linear graph of 3 nodes (1 ----- 2 ----- 3) :\n",
    "\n",
    "$ = - \\frac{1}{2} [w_1 + w_2 + w_3] + \\frac{1}{2} [w_1z_1 + w_2z_2 + w_3z_3] $\n",
    "\n",
    "### Contrainte de Couverture\n",
    "$  A \\sum_{(i, j) \\in E} \\left( \\frac{1}{4}(1 + z_i)(1 + z_j) \\right) = \\frac{A}{4} \\sum_{(i, j) \\in E} (1 + z_i + z_j + z_i z_j) $\n",
    "\n",
    "For a linear graph of 3 nodes (1 ----- 2 ----- 3) :\n",
    "\n",
    "$ A \\left[ \\left( \\frac{1}{2}(1 + z_1) \\right)\\left( \\frac{1}{2}(1 + z_2) \\right) + \\left( \\frac{1}{2}(1 + z_2) \\right)\\left( \\frac{1}{2}(1 + z_3) \\right) \\right] $\n",
    "\n",
    "$ = \\frac{A}{4} [(1 + z_1)(1 + z_2) + (1 + z_2)(1 + z_3)] $\n",
    "\n",
    "$ = \\frac{A}{4} [1 + z_1 + z_2 + z_1z_2 + 1 + z_2 + z_3 + z_2z_3] $\n",
    "\n",
    "$ = \\frac{A}{4} [2 + z_1 + 2z_2 + z_3 + z_1z_2 + z_2z_3] $\n",
    "\n",
    "### Contrainte de Taille\n",
    "\n",
    "\n",
    "$  B \\left( \\frac{1}{2} \\sum_{i=1}^V (1 - z_i) - k \\right)^2 $\n",
    "\n",
    "For a linear graph of 3 nodes (1 ----- 2 ----- 3) :\n",
    "\n",
    "$ B \\left( \\frac{3}{2} - \\frac{1}{2}(z_1 + z_2 + z_3) - k \\right)^2 $\n",
    "\n",
    "$ = B \\left( k^2 + kz_1 + kz_2 + kz_3 - 3k + \\frac{1}{4}z_1^2 + \\frac{1}{2}z_1z_2 + \\frac{1}{2}z_1z_3 - \\frac{3}{2}z_1 + \\frac{1}{4}z_2^2 + \\frac{1}{2}z_2z_3 - \\frac{3}{2}z_2 + \\frac{1}{4}z_3^2 - \\frac{3}{2}z_3 + \\frac{9}{4} \\right) $\n",
    "\n",
    "$ = B \\left(k^2 - 3k + \\frac{9}{4} + \\frac{1}{4}(z_1^2 + z_2^2 + z_3^2)\\right) \n",
    "+B\\left((k- \\frac{3}{2}) (z_1+z_2+z_3)\\right) \n",
    "+\\frac{B}{2}\\left(z_1z_2 + z_1z_3 + z_2z_3  \\right) $\n",
    "\n",
    "\n",
    "Dans le développement de la contrainte de taille, les termes quadratiques $ z_i^2 $ apparaissent avec un coefficient de $ \\frac{B}{4} $. Cependant, puisque $z_i $ est une variable binaire (pouvant prendre les valeurs -1 ou 1), $ z_i^2 $ sera toujours égal à 1. Par conséquent, ces termes quadratiques deviennent des termes constants dans la fonction objectif, n'affectant pas la structure de la matrice au meme titre que $ k^2 - 3k + \\frac{9}{4} $. De même pour -$\\frac{1}{2} [w_1 + w_2 + w_3]$ dans le terme de poids et $\\frac{A}{4} * 2$ dans la contrainte de couverture.\n",
    "\n",
    "\n",
    "### Matrice ISING for a linear graph of 3 nodes (1 ----- 2 ----- 3)\n",
    "\n",
    "|      | $ z_1 $                                                  | $ z_2 $                                 | $ z_3 $                                              |\n",
    "|------|----------------------------------------------------------|-----------------------------------------|------------------------------------------------------|\n",
    "| $ z_1 $ | $ \\frac{1}{2}w_1 + \\frac{A}{4} + B(k - \\frac{3}{2}) $ | $ \\frac{A}{4} + \\frac{B}{2}$            | $\\frac{B}{2}$                                        |\n",
    "| $ z_2 $ | $ \\frac{A}{4} + \\frac{B}{2}$                    | $ \\frac{1}{2}w_2 + \\frac{A}{2} + B(k - \\frac{3}{2}) $ |       $ \\frac{A}{4} + \\frac{B}{2}$           |\n",
    "| $ z_3 $ | $ \\frac{B}{2}$                                        | $ \\frac{A}{4} + \\frac{B}{2}$            | $\\frac{1}{2}w_3 + \\frac{A}{4} + B(k - \\frac{3}{2}) $ |\n",
    "\n",
    "\n"
   ]
  },
  {
   "cell_type": "code",
   "execution_count": 49,
   "id": "dbe46bbe",
   "metadata": {},
   "outputs": [],
   "source": [
    "import networkx as nx\n",
    "import random\n",
    "import matplotlib.pyplot as plt\n",
    "import numpy as np\n",
    "import scipy\n",
    "\n",
    "from dwave.system import DWaveSampler, EmbeddingComposite\n",
    "from dwave.cloud import Client\n",
    "from dimod import qubo_to_ising"
   ]
  },
  {
   "cell_type": "code",
   "execution_count": 50,
   "id": "6f35cdd2-7d62-4fbf-bd0e-0c23ea3587e4",
   "metadata": {},
   "outputs": [],
   "source": [
    "\n",
    "def create_qubo_matrix(graph, A, B, k):\n",
    "    \"\"\"\n",
    "    Create a 2D QUBO matrix for the weighted MVC problem with a size constraint on a given graph.\n",
    "\n",
    "    :param graph: NetworkX graph\n",
    "    :param A: Coefficient for the edge coverage penalty\n",
    "    :param B: Coefficient for the size constraint penalty\n",
    "    :param k: Size constraint (number of vertices to be included in the vertex cover)\n",
    "    :return: QUBO matrix as a 2D numpy array\n",
    "    \"\"\"\n",
    "    n = len(graph)\n",
    "    Q = np.zeros((n, n))\n",
    "\n",
    "    for i in range(n):\n",
    "        # Weight constrainte\n",
    "        Q[i][i] -= graph.nodes[i]['weight']\n",
    "        # Size constrainte (diag)\n",
    "        Q[i][i] += B * (1 - 2 * k)  \n",
    "        for j in range(i + 1, n):\n",
    "            # Size constrainte (off-diag)\n",
    "            Q[i][j] += 2 * B\n",
    "            Q[j][i] += 2 * B\n",
    "            if graph.has_edge(i, j):\n",
    "                # MVC consctrainte (diag)\n",
    "                Q[i][i] -= A\n",
    "                Q[j][j] -= A\n",
    "                # MVC consctrainte (off-diag)\n",
    "                Q[i][j] += A\n",
    "                Q[j][i] += A\n",
    "\n",
    "\n",
    "    return Q\n",
    "\n",
    "def create_ising_matrix(graph, A, B, k):\n",
    "    \"\"\"\n",
    "    Create a 2D Ising matrix for the weighted MVC problem with a size constraint on a given graph.\n",
    "\n",
    "    :param graph: NetworkX graph\n",
    "    :param A: Coefficient for the edge coverage penalty\n",
    "    :param B: Coefficient for the size constraint penalty\n",
    "    :param k: Size constraint (number of vertices to be included in the vertex cover)\n",
    "    :return: QUBO matrix as a 2D numpy array\n",
    "    \"\"\"\n",
    "    n = len(graph)\n",
    "    Q = np.zeros((n, n))\n",
    "\n",
    "    for i in range(n):\n",
    "        # Weight constrainte\n",
    "        Q[i][i] += 0.5 * graph.nodes[i]['weight']\n",
    "        # Size constrainte (diag)\n",
    "        Q[i][i] += B * (k - 3/2)  \n",
    "        for j in range(i + 1, n):\n",
    "            # Size constrainte (off-diag)\n",
    "            Q[i][j] += 0.5 * B\n",
    "            Q[j][i] += 0.5 * B\n",
    "            if graph.has_edge(i, j):\n",
    "                # MVC consctrainte (diag)\n",
    "                Q[i][i] += A/4\n",
    "                Q[j][j] += A/4\n",
    "                # MVC consctrainte (off-diag)\n",
    "                Q[i][j] += A/4\n",
    "                Q[j][i] += A/4\n",
    "\n",
    "\n",
    "    return Q"
   ]
  },
  {
   "cell_type": "code",
   "execution_count": 51,
   "id": "4c9a2e88",
   "metadata": {},
   "outputs": [
    {
     "data": {
      "image/png": "[encoded data removed]",
      "text/plain": [
       "<Figure size 800x600 with 1 Axes>"
      ]
     },
     "metadata": {},
     "output_type": "display_data"
    }
   ],
   "source": [
    "# Example usage\n",
    "n = 3  # Number of nodes\n",
    "A = 1  # Edge coverage penalty coefficient\n",
    "B = 0.5  # Size constraint penalty coefficient\n",
    "k = 3  # Size constraint\n",
    "\n",
    "# Create a random weighted graph\n",
    "G = nx.Graph()\n",
    "G.add_nodes_from(range(n))\n",
    "for i in range(n):\n",
    "    for j in range(i + 1, n):\n",
    "        if random.random() < 1:  # Randomly decide whether to add an edge\n",
    "            G.add_edge(i, j)\n",
    "    #G.nodes[i]['weight'] = random.uniform(0, 1)  # Assign random weights to the nodes\n",
    "    G.nodes[i]['weight'] = 1 \n",
    "\n",
    "# Create the QUBO matrix as a 2D numpy array\n",
    "QUBO = create_qubo_matrix(G, A, B, k)\n",
    "# Create the ising matrix as a 2D numpy array\n",
    "ISING = create_ising_matrix(G, A, B, k)\n",
    "\n",
    "# Plot the graph\n",
    "plt.figure(figsize=(8, 6))\n",
    "pos = nx.spring_layout(G)  \n",
    "nx.draw(G, pos, with_labels=True, node_color='lightblue', node_size=500)\n",
    "labels = nx.get_node_attributes(G, 'weight')\n",
    "for node, label in labels.items():\n",
    "    x, y = pos[node]\n",
    "    plt.text(x, y-0.1, f'{label:.2f}', horizontalalignment='center', verticalalignment='center', color='red')\n",
    "\n",
    "plt.title(\"Random Weighted Graph\")\n",
    "plt.show()\n"
   ]
  },
  {
   "cell_type": "code",
   "execution_count": 52,
   "id": "e2044f08",
   "metadata": {},
   "outputs": [
    {
     "name": "stdout",
     "output_type": "stream",
     "text": [
      "[ 0.8094913  -0.23230568 -0.53921971]\n"
     ]
    }
   ],
   "source": [
    "v,w = scipy.linalg.eigh(QUBO)\n",
    "print(w[0])"
   ]
  },
  {
   "attachments": {},
   "cell_type": "markdown",
   "id": "3aa3c280",
   "metadata": {},
   "source": [
    "D-WAVE resolution\n",
    "\n",
    "s'enregistrer : https://cloud.dwavesys.com/leap/\n",
    "\n",
    "penser a mettre dans le bashrc :\n",
    "\n",
    "export DWAVE_API_TOKEN='DEV-3c2720060b258ccc9221669519ef5f1d0eb3fa09'\n",
    "\n",
    "mettre son propre token\n",
    "penser a relancer le terminal apres avoir enregistrer le bashrc"
   ]
  },
  {
   "cell_type": "code",
   "execution_count": 53,
   "id": "9e081da8",
   "metadata": {},
   "outputs": [],
   "source": [
    "# transformation en dictionaire pour utiliser ocean\n",
    "dic_QUBO = {}\n",
    "for i in range(len(QUBO)):\n",
    "    for j in range(len(QUBO[i])):\n",
    "        dic_QUBO[(i, j)] = QUBO[i][j]"
   ]
  },
  {
   "cell_type": "code",
   "execution_count": 54,
   "id": "b8745f08",
   "metadata": {},
   "outputs": [],
   "source": [
    "#creation du model d'ising (avec des zi = 1 ou -1 et non des xi = 0 ou 1)\n",
    "h, J, offset = qubo_to_ising(dic_QUBO)  #h = diag      J = off-diag    offset = est un décalage constant pour l'énergie (?)"
   ]
  },
  {
   "cell_type": "code",
   "execution_count": 55,
   "id": "0136f1e7",
   "metadata": {},
   "outputs": [
    {
     "data": {
      "text/plain": [
       "array([[-5.46611371,  2.        ,  2.        ],\n",
       "       [ 2.        , -5.08527806,  2.        ],\n",
       "       [ 2.        ,  2.        , -4.65798156]])"
      ]
     },
     "execution_count": 55,
     "metadata": {},
     "output_type": "execute_result"
    }
   ],
   "source": [
    "QUBO"
   ]
  },
  {
   "cell_type": "code",
   "execution_count": 56,
   "id": "b2380bfe",
   "metadata": {},
   "outputs": [
    {
     "name": "stdout",
     "output_type": "stream",
     "text": [
      "[ 0.8094913  -0.23230568 -0.53921971]\n"
     ]
    }
   ],
   "source": [
    "v,w = scipy.linalg.eigh(QUBO)\n",
    "print(w[0])"
   ]
  },
  {
   "cell_type": "code",
   "execution_count": 57,
   "id": "3a580222",
   "metadata": {},
   "outputs": [
    {
     "data": {
      "text/plain": [
       "array([[1.73305686, 0.5       , 0.5       ],\n",
       "       [0.5       , 1.54263903, 0.5       ],\n",
       "       [0.5       , 0.5       , 1.32899078]])"
      ]
     },
     "execution_count": 57,
     "metadata": {},
     "output_type": "execute_result"
    }
   ],
   "source": [
    "ISING"
   ]
  },
  {
   "cell_type": "code",
   "execution_count": 58,
   "id": "215f6925",
   "metadata": {},
   "outputs": [
    {
     "name": "stdout",
     "output_type": "stream",
     "text": [
      "[-0.20658924  0.72922117 -0.65234758]\n"
     ]
    }
   ],
   "source": [
    "v,w = scipy.linalg.eigh(ISING)\n",
    "print(w[0])"
   ]
  },
  {
   "cell_type": "code",
   "execution_count": 61,
   "id": "f8be452c",
   "metadata": {},
   "outputs": [
    {
     "name": "stdout",
     "output_type": "stream",
     "text": [
      "[[-0.73305686  0.5         0.5       ]\n",
      " [ 0.5        -0.54263903  0.5       ]\n",
      " [ 0.5         0.5        -0.32899078]]\n",
      "[ 0.83143123 -0.23916319 -0.50152077]\n"
     ]
    }
   ],
   "source": [
    "# Taille de la matrice basée sur la diagonale\n",
    "taille = len(h)\n",
    "\n",
    "# Création d'une matrice de zéros\n",
    "matrice = np.zeros((taille, taille))\n",
    "\n",
    "# Remplissage de la diagonale\n",
    "for i in range(taille):\n",
    "    matrice[i, i] = h[i]\n",
    "\n",
    "# Remplissage des termes hors diagonaux\n",
    "for (i, j), valeur in J.items():\n",
    "    matrice[i, j] = valeur\n",
    "\n",
    "print(matrice)\n",
    "\n",
    "v,w = scipy.linalg.eigh(matrice)\n",
    "print(w[0])"
   ]
  },
  {
   "cell_type": "code",
   "execution_count": 60,
   "id": "1e28ee3b",
   "metadata": {},
   "outputs": [],
   "source": [
    "#resoud le probleme\n",
    "#sampler = EmbeddingComposite(DWaveSampler())  # Remplacer par SimulatedAnnealingSampler() pour un simulateur\n",
    "#response = sampler.sample_ising(h, J)\n",
    "\n",
    "#for sample in response.samples():  \n",
    "    #print(sample)"
   ]
  }
 ],
 "metadata": {
  "kernelspec": {
   "display_name": "np_accelerate_glob",
   "language": "python",
   "name": "python3"
  },
  "language_info": {
   "codemirror_mode": {
    "name": "ipython",
    "version": 3
   },
   "file_extension": ".py",
   "mimetype": "text/x-python",
   "name": "python",
   "nbconvert_exporter": "python",
   "pygments_lexer": "ipython3",
   "version": "3.10.12"
  },
  "vscode": {
   "interpreter": {
    "hash": "0ae47f1780f4c5e29c2fa39f2055b06291b82e605ee2c321bcf02bed152ab3a4"
   }
  }
 },
 "nbformat": 4,
 "nbformat_minor": 5
}
