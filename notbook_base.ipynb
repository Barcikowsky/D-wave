{
 "cells": [
  {
   "attachments": {},
   "cell_type": "markdown",
   "id": "0569d3c0-dca4-4edf-a19b-152843e0b027",
   "metadata": {},
   "source": [
    "# Title\n",
    "## Subtitle"
   ]
  },
  {
   "attachments": {},
   "cell_type": "markdown",
   "id": "89ef7463-b6d5-4138-a425-029ed168e608",
   "metadata": {},
   "source": [
    "### Resume"
   ]
  },
  {
   "attachments": {},
   "cell_type": "markdown",
   "id": "b30b2f00-30a7-4064-a2d6-9cb21b00b882",
   "metadata": {},
   "source": [
    "text\n",
    "\n",
    "resume\n",
    "\n",
    "ctrl maj p\n",
    "\n",
    "create environnemnt \n",
    "\n",
    "conda\n",
    "\n",
    "python 3.10\n",
    "\n",
    "relancer terminal (view -> terminal)\n",
    "\n",
    "en haut a droite selectionner le bon kernel (.conda/bin/python)\n",
    "\n",
    "poetry new nom_du_dossier\n",
    "\n",
    "ajouter un dossier notebook dans nom_du_dossier\n",
    "\n",
    "dans le terminal faire cd nom_du_dossier (pour être juste au dessus du notebook dans la hierarchie)\n",
    "\n",
    "poetry add nom_de_la_bibliotheque"
   ]
  },
  {
   "cell_type": "code",
   "execution_count": null,
   "id": "6f35cdd2-7d62-4fbf-bd0e-0c23ea3587e4",
   "metadata": {},
   "outputs": [],
   "source": [
    "import json\n",
    "import pennylane as qml\n",
    "import pennylane.numpy as np"
   ]
  }
 ],
 "metadata": {
  "kernelspec": {
   "display_name": "np_accelerate_glob",
   "language": "python",
   "name": "python3"
  },
  "language_info": {
   "codemirror_mode": {
    "name": "ipython",
    "version": 3
   },
   "file_extension": ".py",
   "mimetype": "text/x-python",
   "name": "python",
   "nbconvert_exporter": "python",
   "pygments_lexer": "ipython3",
   "version": "3.10.12"
  },
  "vscode": {
   "interpreter": {
    "hash": "0ae47f1780f4c5e29c2fa39f2055b06291b82e605ee2c321bcf02bed152ab3a4"
   }
  }
 },
 "nbformat": 4,
 "nbformat_minor": 5
}
